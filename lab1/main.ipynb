{
 "cells": [
  {
   "cell_type": "code",
   "execution_count": 122,
   "metadata": {},
   "outputs": [
    {
     "output_type": "stream",
     "name": "stdout",
     "text": "/home/lol/Desktop/Labs/AI/.venv/bin/python\n2.2.0\n"
    }
   ],
   "source": [
    "from __future__ import absolute_import, division, print_function, unicode_literals\n",
    "import tensorflow as tf\n",
    "from tensorflow import keras\n",
    "import pandas as pd\n",
    "import numpy as np\n",
    "import matplotlib.pyplot as plt\n",
    "!which python\n",
    "print(tf.__version__)"
   ]
  },
  {
   "cell_type": "code",
   "execution_count": 123,
   "metadata": {},
   "outputs": [],
   "source": [
    "import glob\n",
    "import imageio\n",
    "\n",
    "dataset = []\n",
    "\n",
    "for path in glob.glob(\"./photos/1/crop/2/*.png\"):\n",
    "    img = imageio.imread(path)\n",
    "    dataset.append(1^img//255)\n",
    "\n",
    "images = np.array(dataset)"
   ]
  },
  {
   "cell_type": "code",
   "execution_count": 193,
   "metadata": {},
   "outputs": [
    {
     "output_type": "stream",
     "name": "stdout",
     "text": "Model: \"categorizer\"\n_________________________________________________________________\nLayer (type)                 Output Shape              Param #   \n=================================================================\nflat (Flatten)               (None, 1024)              0         \n_________________________________________________________________\nprocess (Dense)              (None, 1024)              1049600   \n_________________________________________________________________\ncategorize (Dense)           (None, 3)                 3075      \n=================================================================\nTotal params: 1,052,675\nTrainable params: 1,052,675\nNon-trainable params: 0\n_________________________________________________________________\n"
    }
   ],
   "source": [
    "model = keras.Sequential([\n",
    "    keras.layers.Input(shape=(32,32),name=\"input\"),\n",
    "    keras.layers.Flatten(input_shape=(32,32), name=\"flat\"),\n",
    "    keras.layers.Dense(units=32*32, activation='relu', name=\"process\", input_dim=32*32),\n",
    "    keras.layers.Dense(units=3, activation='softmax', name=\"categorize\")\n",
    "],name=\"categorizer\")\n",
    "\n",
    "model.compile(\n",
    "    optimizer='adam',\n",
    "    loss='categorical_crossentropy',\n",
    "    metrics=['accuracy']\n",
    ")\n",
    "model.summary()"
   ]
  },
  {
   "cell_type": "code",
   "execution_count": 194,
   "metadata": {},
   "outputs": [
    {
     "output_type": "stream",
     "name": "stdout",
     "text": "Epoch 1/6\n1/1 [==============================] - 0s 2ms/step - loss: 1.1657 - accuracy: 0.2963\nEpoch 2/6\n1/1 [==============================] - 0s 939us/step - loss: 0.6266 - accuracy: 0.7407\nEpoch 3/6\n1/1 [==============================] - 0s 1ms/step - loss: 0.2774 - accuracy: 1.0000\nEpoch 4/6\n1/1 [==============================] - 0s 2ms/step - loss: 0.1566 - accuracy: 1.0000\nEpoch 5/6\n1/1 [==============================] - 0s 2ms/step - loss: 0.0953 - accuracy: 1.0000\nEpoch 6/6\n1/1 [==============================] - 0s 1ms/step - loss: 0.0546 - accuracy: 1.0000\n"
    },
    {
     "output_type": "execute_result",
     "data": {
      "text/plain": "<tensorflow.python.keras.callbacks.History at 0x7f439bc3bd30>"
     },
     "metadata": {},
     "execution_count": 194
    }
   ],
   "source": [
    "k = keras.utils.to_categorical(\n",
    "    np.concatenate([\n",
    "    np.array([0]*9),\n",
    "    np.array([1]*9),\n",
    "    np.array([2]*9)\n",
    "]),\n",
    "    num_classes=3\n",
    ")\n",
    "\n",
    "model.fit(images, k, epochs=6)\n"
   ]
  },
  {
   "cell_type": "code",
   "execution_count": 195,
   "metadata": {},
   "outputs": [
    {
     "output_type": "execute_result",
     "data": {
      "text/plain": "array([[0.0118105 , 0.07769623, 0.9104933 ]], dtype=float32)"
     },
     "metadata": {},
     "execution_count": 195
    }
   ],
   "source": [
    "model.predict(np.array([images[20]]))\n"
   ]
  },
  {
   "cell_type": "code",
   "execution_count": null,
   "metadata": {},
   "outputs": [],
   "source": [
    "plt."
   ]
  }
 ],
 "metadata": {
  "language_info": {
   "codemirror_mode": {
    "name": "ipython",
    "version": 3
   },
   "file_extension": ".py",
   "mimetype": "text/x-python",
   "name": "python",
   "nbconvert_exporter": "python",
   "pygments_lexer": "ipython3",
   "version": "3.8.2-final"
  },
  "orig_nbformat": 2,
  "kernelspec": {
   "name": "python38264bitvenvvenvb2e9bcfd1ba54bb5995acfd7f05d13dc",
   "display_name": "Python 3.8.2 64-bit ('.venv': venv)"
  }
 },
 "nbformat": 4,
 "nbformat_minor": 2
}